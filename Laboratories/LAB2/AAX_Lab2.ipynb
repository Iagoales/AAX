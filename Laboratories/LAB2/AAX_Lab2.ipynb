{
  "nbformat": 4,
  "nbformat_minor": 0,
  "metadata": {
    "colab": {
      "provenance": []
    },
    "kernelspec": {
      "name": "python3",
      "display_name": "Python 3"
    },
    "language_info": {
      "name": "python"
    }
  },
  "cells": [
    {
      "cell_type": "markdown",
      "source": [
        "#ML4Net - Lab 2\n",
        "\n",
        "## Team members\n",
        "\n",
        "Arnau Ruiz Gonzalez   205481 | Iago Alés Olmedo   268260 |\n",
        "\n",
        "## Description\n",
        "\n",
        "In this lab, you will implement an ML model that detects congestion in Wi-Fi networks. In particular, you will desing and implement a supervised learning model (e.g., linear regression, multi-layer perceptron, neural network), which you will train using a dataset that was generated using the ns-3 simulator.\n",
        "\n",
        "Each row in the dataset is organized as (x1, x2, ..., x26, y1, y2, ..., y26, s, r, l), where:\n",
        "\n",
        "* `x1, x2..., x26, y1, y2, ..., y26` represent the histogram of the Inter-Frame Space (IFS) values for M frames that accessed the medium in a 60 seconds observation sample.\n",
        "  * `x26` represents the maximum IFS duration (in ms) in the considered M frames whereas `x1` is `x26`/26\n",
        "  * The remaining `xi` values are buckets at uniform spacing between `x1` and `x26`.\n",
        "  * For i>1, the values of `yi` represent the IFS histogram count (in percentage) for a corresponding bucket interval between `xi`-1 and `xi`.\n",
        "  * In the case of `y1`, the bucket interval is between 0 and `x1`\n",
        "* `s` is the average IFS duration (in ms)\n",
        "* `r` is the percentage of frame collisions\n",
        "* `l` is the label, where 1 indicates that the network is saturated, and 0, that it is not\n",
        "\n",
        "Original dataset: https://ieee-dataport.org/documents/dataset-identification-saturated-and-unsaturated-wi-fi-networks\n",
        "\n",
        "## Instructions\n",
        "\n",
        "*   Follow the steps from this Notebook and complete the proposed exercises.\n",
        "*   Deliver the completed Notebook by uploading it to your Github repository.\n",
        "*   Submission deadline: 1 June 2025 (EoB)."
      ],
      "metadata": {
        "id": "ShbB8CxBMSLH"
      }
    },
    {
      "cell_type": "markdown",
      "source": [
        "## Setting up the environment"
      ],
      "metadata": {
        "id": "Lqio72iAuxNJ"
      }
    },
    {
      "cell_type": "markdown",
      "source": [
        "1. Connect your Google Drive"
      ],
      "metadata": {
        "id": "hfR6f_lHpklt"
      }
    },
    {
      "cell_type": "code",
      "source": [
        "from google.colab import drive\n",
        "drive.mount('/content/drive')"
      ],
      "metadata": {
        "id": "Nl_xYKv2oYRb",
        "colab": {
          "base_uri": "https://localhost:8080/"
        },
        "outputId": "5a36ebd9-dd03-404b-f7ed-a040ba19f9b4"
      },
      "execution_count": 2,
      "outputs": [
        {
          "output_type": "stream",
          "name": "stdout",
          "text": [
            "Mounted at /content/drive\n"
          ]
        }
      ]
    },
    {
      "cell_type": "markdown",
      "source": [
        "2. Download the dataset"
      ],
      "metadata": {
        "id": "RQxCHlkswbru"
      }
    },
    {
      "cell_type": "code",
      "source": [
        "!wget https://github.com/fwilhelmi/fwilhelmi.github.io/raw/refs/heads/master/files/dataset_Lab2.zip"
      ],
      "metadata": {
        "id": "o6I9dNnpwbUB",
        "collapsed": true,
        "colab": {
          "base_uri": "https://localhost:8080/"
        },
        "outputId": "1a17748a-91fd-40e6-c331-dd7412ed8cff"
      },
      "execution_count": 3,
      "outputs": [
        {
          "output_type": "stream",
          "name": "stdout",
          "text": [
            "--2025-05-28 16:51:04--  https://github.com/fwilhelmi/fwilhelmi.github.io/raw/refs/heads/master/files/dataset_Lab2.zip\n",
            "Resolving github.com (github.com)... 140.82.116.4\n",
            "Connecting to github.com (github.com)|140.82.116.4|:443... connected.\n",
            "HTTP request sent, awaiting response... 302 Found\n",
            "Location: https://raw.githubusercontent.com/fwilhelmi/fwilhelmi.github.io/refs/heads/master/files/dataset_Lab2.zip [following]\n",
            "--2025-05-28 16:51:04--  https://raw.githubusercontent.com/fwilhelmi/fwilhelmi.github.io/refs/heads/master/files/dataset_Lab2.zip\n",
            "Resolving raw.githubusercontent.com (raw.githubusercontent.com)... 185.199.108.133, 185.199.111.133, 185.199.109.133, ...\n",
            "Connecting to raw.githubusercontent.com (raw.githubusercontent.com)|185.199.108.133|:443... connected.\n",
            "HTTP request sent, awaiting response... 200 OK\n",
            "Length: 1803279 (1.7M) [application/zip]\n",
            "Saving to: ‘dataset_Lab2.zip’\n",
            "\n",
            "dataset_Lab2.zip    100%[===================>]   1.72M  --.-KB/s    in 0.05s   \n",
            "\n",
            "2025-05-28 16:51:04 (32.8 MB/s) - ‘dataset_Lab2.zip’ saved [1803279/1803279]\n",
            "\n"
          ]
        }
      ]
    },
    {
      "cell_type": "markdown",
      "source": [
        "3. Define the main path of the code"
      ],
      "metadata": {
        "id": "-5ZtSumzuZCy"
      }
    },
    {
      "cell_type": "code",
      "source": [
        "mypath=\"drive/MyDrive/AAX/Lab2\""
      ],
      "metadata": {
        "id": "VYfdaJF-qr5w"
      },
      "execution_count": 4,
      "outputs": []
    },
    {
      "cell_type": "markdown",
      "source": [
        "4. Extract the source code to the destination folder"
      ],
      "metadata": {
        "id": "ISnLhobTwh7l"
      }
    },
    {
      "cell_type": "code",
      "source": [
        "#mkdir $mypath; cp dataset_Lab2.zip $mypath; cd $mypath; unzip dataset_Lab2.zip"
      ],
      "metadata": {
        "id": "rgEgC4fZwiLf",
        "collapsed": true
      },
      "execution_count": 5,
      "outputs": []
    },
    {
      "cell_type": "markdown",
      "source": [
        "## Visualizing the data\n",
        "\n",
        "\n"
      ],
      "metadata": {
        "id": "97kVtaWOutFD"
      }
    },
    {
      "cell_type": "code",
      "source": [
        "import matplotlib.pyplot as plt\n",
        "import numpy as np\n",
        "import pandas as pd\n",
        "\n",
        "def plot_ifs_histogram(data_row):\n",
        "    \"\"\"\n",
        "    Plots the Inter-Frame Space (IFS) histogram from a single row of the dataset.\n",
        "\n",
        "    Args:\n",
        "        data_row (list or numpy.ndarray): A list or array representing a single row\n",
        "                                          in the format (x1, ..., x26, y1, ..., y26, s, r, l).\n",
        "    \"\"\"\n",
        "\n",
        "    # Get IFS values and the corresponding counts\n",
        "    x_values = np.array(data_row[:26])\n",
        "    y_counts = np.array(data_row[26:52])\n",
        "\n",
        "    # Calculate the bin edges based on x_values\n",
        "    bin_edges = [0] + list(x_values)\n",
        "\n",
        "    # Create the histogram plot\n",
        "    plt.figure(figsize=(10, 6))\n",
        "    plt.bar(bin_edges[:-1], y_counts, width=np.diff(bin_edges)[0], align='edge', alpha=0.7)\n",
        "\n",
        "    # Add labels and title\n",
        "    plt.xlabel(\"IFS Duration (ms)\")\n",
        "    plt.ylabel(\"Counts\")\n",
        "    plt.title(\"Inter-Frame Space (IFS) Histogram\")\n",
        "    plt.grid(axis='y', linestyle='--')\n",
        "\n",
        "    # Show the plot\n",
        "    plt.show()\n",
        "\n",
        "# Example usage\n",
        "\n",
        "# -> Read the data file\n",
        "file_name = mypath + '/train_data.csv'\n",
        "train_data_df = pd.read_csv(file_name, header=None)\n",
        "print(train_data_df.head())\n",
        "\n",
        "# -> Get a sample from the dataset and plot it\n",
        "row_index = 1\n",
        "sample_data = train_data_df.iloc[row_index].values\n",
        "plot_ifs_histogram(sample_data)"
      ],
      "metadata": {
        "id": "Rn9zlRDcenHJ",
        "colab": {
          "base_uri": "https://localhost:8080/",
          "height": 955
        },
        "outputId": "cdd0004b-752d-4b8e-e37d-4f3a1b2e1e0d"
      },
      "execution_count": 6,
      "outputs": [
        {
          "output_type": "stream",
          "name": "stdout",
          "text": [
            "       0       1       2       3       4       5       6       7       8   \\\n",
            "0  0.0065  0.0130  0.0195  0.0260  0.0325  0.0390  0.0455  0.0520  0.0585   \n",
            "1  0.0263  0.0526  0.0789  0.1052  0.1316  0.1579  0.1842  0.2105  0.2368   \n",
            "2  0.0176  0.0352  0.0528  0.0704  0.0881  0.1057  0.1233  0.1409  0.1585   \n",
            "3  0.0222  0.0444  0.0666  0.0888  0.1110  0.1332  0.1554  0.1776  0.1998   \n",
            "4  0.0189  0.0379  0.0568  0.0758  0.0947  0.1137  0.1326  0.1516  0.1705   \n",
            "\n",
            "       9   ...      45      46      47      48      49      50      51  \\\n",
            "0  0.0650  ...  0.0316  0.0368  0.0312  0.0000  0.0316  0.0364  0.0304   \n",
            "1  0.2631  ...  0.0316  0.0368  0.0312  0.0000  0.0316  0.0364  0.0304   \n",
            "2  0.1761  ...  0.0316  0.0368  0.0312  0.0312  0.0316  0.0299  0.0304   \n",
            "3  0.2220  ...  0.0316  0.0307  0.0312  0.0000  0.0360  0.0364  0.0304   \n",
            "4  0.1895  ...  0.0316  0.0368  0.0312  0.0000  0.0316  0.0364  0.0304   \n",
            "\n",
            "       52      53  54  \n",
            "0  0.0604  0.9960   1  \n",
            "1  0.0604  0.9960   1  \n",
            "2  0.0604  0.9957   1  \n",
            "3  0.0604  0.9900   1  \n",
            "4  0.0604  0.9862   1  \n",
            "\n",
            "[5 rows x 55 columns]\n"
          ]
        },
        {
          "output_type": "display_data",
          "data": {
            "text/plain": [
              "<Figure size 1000x600 with 1 Axes>"
            ],
            "image/png": "[encoded data removed]"
          },
          "metadata": {}
        }
      ]
    },
    {
      "cell_type": "markdown",
      "source": [
        "## EXERCISES"
      ],
      "metadata": {
        "id": "bTAXUX5lN9KF"
      }
    },
    {
      "cell_type": "markdown",
      "source": [
        "### Exercise 1:\n",
        "Define an approach for training and validating the model you are going to train with the proposed data. Then, perform the split accordingly."
      ],
      "metadata": {
        "id": "weqFFp6eShJg"
      }
    },
    {
      "cell_type": "code",
      "source": [
        "# (response to exercise 1)\n",
        "#We have read the csv file noticing the first row and column of the file are the labels so we make sure they are not taken into account.\n",
        "#Then for the data split we have decided to have 70% as training (first split), and then the 30% remaining in validation.\n",
        "import numpy as np\n",
        "import pandas as pd\n",
        "from sklearn.model_selection import train_test_split\n",
        "\n",
        "df = pd.read_csv(mypath + '/train_data.csv', header=0, index_col=0)\n",
        "X = df.iloc[:, :-1].values\n",
        "y = df.iloc[:, -1].values\n",
        "\n",
        "\n",
        "X_train, X_val, y_train, y_val = train_test_split(X, y, test_size=0.3, random_state=42)\n",
        "\n",
        "\n"
      ],
      "metadata": {
        "id": "o3tirZCOSkNC"
      },
      "execution_count": 10,
      "outputs": []
    },
    {
      "cell_type": "markdown",
      "source": [
        "### Exercise 2:\n",
        "\n",
        "Define your ML model, so that it can be called for training and test. Examples of approaches that you could use (but not limited to):\n",
        "\n",
        "*   Logistic Regression\n",
        "*   K-Nearest Neighbors (KNN)\n",
        "*   Decision Trees or Random Forests\n",
        "*   Convolutional Neural Network (CNN)"
      ],
      "metadata": {
        "id": "E3vAU830SmuR"
      }
    },
    {
      "cell_type": "code",
      "source": [
        "# (response to exercise 2)\n",
        "#We have chosen to use the Random Forest Classifier as our ML model as it can handle non linearity and is robust to overfitting.\n",
        "#As proven by the training results where the accuracy turn out to be very close to 1 (0.9995) so we believe the model choosed is the correct one.\n",
        "from sklearn.metrics import accuracy_score, classification_report\n",
        "from sklearn.ensemble import RandomForestClassifier\n",
        "\n",
        "\n",
        "# Train a Random Forest\n",
        "model = RandomForestClassifier(n_estimators=100, random_state=42)\n",
        "model.fit(X_train, y_train)\n",
        "\n",
        "# Validate\n",
        "y_val_pred = model.predict(X_val)\n",
        "print(\"Validation Accuracy:\", accuracy_score(y_val, y_val_pred))\n",
        "print(classification_report(y_val, y_val_pred))\n"
      ],
      "metadata": {
        "id": "PTjjIcWDS3yC",
        "colab": {
          "base_uri": "https://localhost:8080/"
        },
        "outputId": "0f8e982b-80e8-49b4-e75d-67e4b50c4091"
      },
      "execution_count": 11,
      "outputs": [
        {
          "output_type": "stream",
          "name": "stdout",
          "text": [
            "Validation Accuracy: 0.9995\n",
            "              precision    recall  f1-score   support\n",
            "\n",
            "           0       1.00      1.00      1.00      2984\n",
            "           1       1.00      1.00      1.00      3016\n",
            "\n",
            "    accuracy                           1.00      6000\n",
            "   macro avg       1.00      1.00      1.00      6000\n",
            "weighted avg       1.00      1.00      1.00      6000\n",
            "\n"
          ]
        }
      ]
    },
    {
      "cell_type": "markdown",
      "source": [
        "### Exercise 3:\n",
        "\n",
        "Define the hyperparameters that you will use to train the model."
      ],
      "metadata": {
        "id": "7hgfWEriSpMa"
      }
    },
    {
      "cell_type": "code",
      "source": [
        "# (response to exercise 3)\n",
        "#To define which parameters we are going to use for the model what we are going to is finding the optimal hyperparameters, that are agrupated in a list that consist of:\n",
        "#the number of parameters, the maximum depth, the minimum sample split,the minimum soamples in the leafs and  the maximum number of features (We cnsider this the most essential parameters of the Random FOrest Classifier).\n",
        "#For this we assign them a random integer from a range, and then we perform the operation to find the optimal ones taking into account the running time.\n",
        "#We limited it to 10 iteration using 3 fold-cross validation and using the roc curve as with more iterations it was taking too long to obtain the results (Now does it in 5 minutes).\n",
        "from sklearn.model_selection import RandomizedSearchCV\n",
        "from scipy.stats import randint\n",
        "\n",
        "param_dist = {\n",
        "    'n_estimators': randint(50, 300),\n",
        "    'max_depth': [None, 10, 20, 30],\n",
        "    'min_samples_split': randint(2, 10),\n",
        "    'min_samples_leaf': randint(1, 4),\n",
        "    'max_features': ['sqrt', 'log2', 0.5, 0.8]\n",
        "}\n",
        "\n",
        "rf = RandomForestClassifier(random_state=42)\n",
        "random_search = RandomizedSearchCV(\n",
        "    estimator=rf,\n",
        "    param_distributions=param_dist,\n",
        "    n_iter=10,  # Number of  trials\n",
        "    cv=3,       #Number of fold-Cross_Validation\n",
        "    scoring='roc_auc',\n",
        "    n_jobs=4,\n",
        "    verbose=2\n",
        ")\n",
        "random_search.fit(X_train, y_train)\n",
        "\n",
        "print(\"Best parameters:\", random_search.best_params_)\n",
        "print(\"Best validation AUC:\", random_search.best_score_)"
      ],
      "metadata": {
        "id": "PqgnnqflZ8R3",
        "colab": {
          "base_uri": "https://localhost:8080/"
        },
        "outputId": "711181df-ee6e-41e8-b6c1-59f1a5dea172"
      },
      "execution_count": 12,
      "outputs": [
        {
          "output_type": "stream",
          "name": "stdout",
          "text": [
            "Fitting 3 folds for each of 10 candidates, totalling 30 fits\n",
            "Best parameters: {'max_depth': 10, 'max_features': 0.5, 'min_samples_leaf': 2, 'min_samples_split': 3, 'n_estimators': 145}\n",
            "Best validation AUC: 0.9999995713032609\n"
          ]
        }
      ]
    },
    {
      "cell_type": "markdown",
      "source": [
        "### Exercise 4:\n",
        "Train the model and show the procedure (e.g., evolution of the training/validation loss)."
      ],
      "metadata": {
        "id": "zGXDiQQEZ5vL"
      }
    },
    {
      "cell_type": "code",
      "source": [
        "# (response to exercise 4)\n",
        "#We run the Random Forest Cassifier taking into accoint the best parameters that were obtained in the previous exercise.\n",
        "#Then we plot the learning curves of the algorithm using the loss values obtained. We can see that the model is working correctly as we\n",
        "# obtain a curve that does not increase in neither of both cases which confirms that there is also no overfitting.\n",
        "from sklearn.ensemble import RandomForestClassifier\n",
        "from sklearn.metrics import log_loss\n",
        "import numpy as np\n",
        "import matplotlib.pyplot as plt\n",
        "\n",
        "# Optimal hyperparameters (replace with yours)\n",
        "best_params = {\n",
        "    'n_estimators': 73,\n",
        "    'max_depth': None,\n",
        "    'min_samples_split': 2,\n",
        "    'min_samples_leaf': 1,\n",
        "    'max_features': 0.5,\n",
        "    'random_state': 42\n",
        "}\n",
        "\n",
        "# Initialize and train\n",
        "model = RandomForestClassifier(**best_params)\n",
        "model.fit(X_train, y_train)"
      ],
      "metadata": {
        "id": "8AhYwVhNfWGA",
        "colab": {
          "base_uri": "https://localhost:8080/",
          "height": 80
        },
        "outputId": "eed24ad1-da73-40b3-8629-7a8d296092ec"
      },
      "execution_count": 13,
      "outputs": [
        {
          "output_type": "execute_result",
          "data": {
            "text/plain": [
              "RandomForestClassifier(max_features=0.5, n_estimators=73, random_state=42)"
            ],
            "text/html": [
              "<style>#sk-container-id-1 {\n",
              "  /* Definition of color scheme common for light and dark mode */\n",
              "  --sklearn-color-text: #000;\n",
              "  --sklearn-color-text-muted: #666;\n",
              "  --sklearn-color-line: gray;\n",
              "  /* Definition of color scheme for unfitted estimators */\n",
              "  --sklearn-color-unfitted-level-0: #fff5e6;\n",
              "  --sklearn-color-unfitted-level-1: #f6e4d2;\n",
              "  --sklearn-color-unfitted-level-2: #ffe0b3;\n",
              "  --sklearn-color-unfitted-level-3: chocolate;\n",
              "  /* Definition of color scheme for fitted estimators */\n",
              "  --sklearn-color-fitted-level-0: #f0f8ff;\n",
              "  --sklearn-color-fitted-level-1: #d4ebff;\n",
              "  --sklearn-color-fitted-level-2: #b3dbfd;\n",
              "  --sklearn-color-fitted-level-3: cornflowerblue;\n",
              "\n",
              "  /* Specific color for light theme */\n",
              "  --sklearn-color-text-on-default-background: var(--sg-text-color, var(--theme-code-foreground, var(--jp-content-font-color1, black)));\n",
              "  --sklearn-color-background: var(--sg-background-color, var(--theme-background, var(--jp-layout-color0, white)));\n",
              "  --sklearn-color-border-box: var(--sg-text-color, var(--theme-code-foreground, var(--jp-content-font-color1, black)));\n",
              "  --sklearn-color-icon: #696969;\n",
              "\n",
              "  @media (prefers-color-scheme: dark) {\n",
              "    /* Redefinition of color scheme for dark theme */\n",
              "    --sklearn-color-text-on-default-background: var(--sg-text-color, var(--theme-code-foreground, var(--jp-content-font-color1, white)));\n",
              "    --sklearn-color-background: var(--sg-background-color, var(--theme-background, var(--jp-layout-color0, #111)));\n",
              "    --sklearn-color-border-box: var(--sg-text-color, var(--theme-code-foreground, var(--jp-content-font-color1, white)));\n",
              "    --sklearn-color-icon: #878787;\n",
              "  }\n",
              "}\n",
              "\n",
              "#sk-container-id-1 {\n",
              "  color: var(--sklearn-color-text);\n",
              "}\n",
              "\n",
              "#sk-container-id-1 pre {\n",
              "  padding: 0;\n",
              "}\n",
              "\n",
              "#sk-container-id-1 input.sk-hidden--visually {\n",
              "  border: 0;\n",
              "  clip: rect(1px 1px 1px 1px);\n",
              "  clip: rect(1px, 1px, 1px, 1px);\n",
              "  height: 1px;\n",
              "  margin: -1px;\n",
              "  overflow: hidden;\n",
              "  padding: 0;\n",
              "  position: absolute;\n",
              "  width: 1px;\n",
              "}\n",
              "\n",
              "#sk-container-id-1 div.sk-dashed-wrapped {\n",
              "  border: 1px dashed var(--sklearn-color-line);\n",
              "  margin: 0 0.4em 0.5em 0.4em;\n",
              "  box-sizing: border-box;\n",
              "  padding-bottom: 0.4em;\n",
              "  background-color: var(--sklearn-color-background);\n",
              "}\n",
              "\n",
              "#sk-container-id-1 div.sk-container {\n",
              "  /* jupyter's `normalize.less` sets `[hidden] { display: none; }`\n",
              "     but bootstrap.min.css set `[hidden] { display: none !important; }`\n",
              "     so we also need the `!important` here to be able to override the\n",
              "     default hidden behavior on the sphinx rendered scikit-learn.org.\n",
              "     See: https://github.com/scikit-learn/scikit-learn/issues/21755 */\n",
              "  display: inline-block !important;\n",
              "  position: relative;\n",
              "}\n",
              "\n",
              "#sk-container-id-1 div.sk-text-repr-fallback {\n",
              "  display: none;\n",
              "}\n",
              "\n",
              "div.sk-parallel-item,\n",
              "div.sk-serial,\n",
              "div.sk-item {\n",
              "  /* draw centered vertical line to link estimators */\n",
              "  background-image: linear-gradient(var(--sklearn-color-text-on-default-background), var(--sklearn-color-text-on-default-background));\n",
              "  background-size: 2px 100%;\n",
              "  background-repeat: no-repeat;\n",
              "  background-position: center center;\n",
              "}\n",
              "\n",
              "/* Parallel-specific style estimator block */\n",
              "\n",
              "#sk-container-id-1 div.sk-parallel-item::after {\n",
              "  content: \"\";\n",
              "  width: 100%;\n",
              "  border-bottom: 2px solid var(--sklearn-color-text-on-default-background);\n",
              "  flex-grow: 1;\n",
              "}\n",
              "\n",
              "#sk-container-id-1 div.sk-parallel {\n",
              "  display: flex;\n",
              "  align-items: stretch;\n",
              "  justify-content: center;\n",
              "  background-color: var(--sklearn-color-background);\n",
              "  position: relative;\n",
              "}\n",
              "\n",
              "#sk-container-id-1 div.sk-parallel-item {\n",
              "  display: flex;\n",
              "  flex-direction: column;\n",
              "}\n",
              "\n",
              "#sk-container-id-1 div.sk-parallel-item:first-child::after {\n",
              "  align-self: flex-end;\n",
              "  width: 50%;\n",
              "}\n",
              "\n",
              "#sk-container-id-1 div.sk-parallel-item:last-child::after {\n",
              "  align-self: flex-start;\n",
              "  width: 50%;\n",
              "}\n",
              "\n",
              "#sk-container-id-1 div.sk-parallel-item:only-child::after {\n",
              "  width: 0;\n",
              "}\n",
              "\n",
              "/* Serial-specific style estimator block */\n",
              "\n",
              "#sk-container-id-1 div.sk-serial {\n",
              "  display: flex;\n",
              "  flex-direction: column;\n",
              "  align-items: center;\n",
              "  background-color: var(--sklearn-color-background);\n",
              "  padding-right: 1em;\n",
              "  padding-left: 1em;\n",
              "}\n",
              "\n",
              "\n",
              "/* Toggleable style: style used for estimator/Pipeline/ColumnTransformer box that is\n",
              "clickable and can be expanded/collapsed.\n",
              "- Pipeline and ColumnTransformer use this feature and define the default style\n",
              "- Estimators will overwrite some part of the style using the `sk-estimator` class\n",
              "*/\n",
              "\n",
              "/* Pipeline and ColumnTransformer style (default) */\n",
              "\n",
              "#sk-container-id-1 div.sk-toggleable {\n",
              "  /* Default theme specific background. It is overwritten whether we have a\n",
              "  specific estimator or a Pipeline/ColumnTransformer */\n",
              "  background-color: var(--sklearn-color-background);\n",
              "}\n",
              "\n",
              "/* Toggleable label */\n",
              "#sk-container-id-1 label.sk-toggleable__label {\n",
              "  cursor: pointer;\n",
              "  display: flex;\n",
              "  width: 100%;\n",
              "  margin-bottom: 0;\n",
              "  padding: 0.5em;\n",
              "  box-sizing: border-box;\n",
              "  text-align: center;\n",
              "  align-items: start;\n",
              "  justify-content: space-between;\n",
              "  gap: 0.5em;\n",
              "}\n",
              "\n",
              "#sk-container-id-1 label.sk-toggleable__label .caption {\n",
              "  font-size: 0.6rem;\n",
              "  font-weight: lighter;\n",
              "  color: var(--sklearn-color-text-muted);\n",
              "}\n",
              "\n",
              "#sk-container-id-1 label.sk-toggleable__label-arrow:before {\n",
              "  /* Arrow on the left of the label */\n",
              "  content: \"▸\";\n",
              "  float: left;\n",
              "  margin-right: 0.25em;\n",
              "  color: var(--sklearn-color-icon);\n",
              "}\n",
              "\n",
              "#sk-container-id-1 label.sk-toggleable__label-arrow:hover:before {\n",
              "  color: var(--sklearn-color-text);\n",
              "}\n",
              "\n",
              "/* Toggleable content - dropdown */\n",
              "\n",
              "#sk-container-id-1 div.sk-toggleable__content {\n",
              "  max-height: 0;\n",
              "  max-width: 0;\n",
              "  overflow: hidden;\n",
              "  text-align: left;\n",
              "  /* unfitted */\n",
              "  background-color: var(--sklearn-color-unfitted-level-0);\n",
              "}\n",
              "\n",
              "#sk-container-id-1 div.sk-toggleable__content.fitted {\n",
              "  /* fitted */\n",
              "  background-color: var(--sklearn-color-fitted-level-0);\n",
              "}\n",
              "\n",
              "#sk-container-id-1 div.sk-toggleable__content pre {\n",
              "  margin: 0.2em;\n",
              "  border-radius: 0.25em;\n",
              "  color: var(--sklearn-color-text);\n",
              "  /* unfitted */\n",
              "  background-color: var(--sklearn-color-unfitted-level-0);\n",
              "}\n",
              "\n",
              "#sk-container-id-1 div.sk-toggleable__content.fitted pre {\n",
              "  /* unfitted */\n",
              "  background-color: var(--sklearn-color-fitted-level-0);\n",
              "}\n",
              "\n",
              "#sk-container-id-1 input.sk-toggleable__control:checked~div.sk-toggleable__content {\n",
              "  /* Expand drop-down */\n",
              "  max-height: 200px;\n",
              "  max-width: 100%;\n",
              "  overflow: auto;\n",
              "}\n",
              "\n",
              "#sk-container-id-1 input.sk-toggleable__control:checked~label.sk-toggleable__label-arrow:before {\n",
              "  content: \"▾\";\n",
              "}\n",
              "\n",
              "/* Pipeline/ColumnTransformer-specific style */\n",
              "\n",
              "#sk-container-id-1 div.sk-label input.sk-toggleable__control:checked~label.sk-toggleable__label {\n",
              "  color: var(--sklearn-color-text);\n",
              "  background-color: var(--sklearn-color-unfitted-level-2);\n",
              "}\n",
              "\n",
              "#sk-container-id-1 div.sk-label.fitted input.sk-toggleable__control:checked~label.sk-toggleable__label {\n",
              "  background-color: var(--sklearn-color-fitted-level-2);\n",
              "}\n",
              "\n",
              "/* Estimator-specific style */\n",
              "\n",
              "/* Colorize estimator box */\n",
              "#sk-container-id-1 div.sk-estimator input.sk-toggleable__control:checked~label.sk-toggleable__label {\n",
              "  /* unfitted */\n",
              "  background-color: var(--sklearn-color-unfitted-level-2);\n",
              "}\n",
              "\n",
              "#sk-container-id-1 div.sk-estimator.fitted input.sk-toggleable__control:checked~label.sk-toggleable__label {\n",
              "  /* fitted */\n",
              "  background-color: var(--sklearn-color-fitted-level-2);\n",
              "}\n",
              "\n",
              "#sk-container-id-1 div.sk-label label.sk-toggleable__label,\n",
              "#sk-container-id-1 div.sk-label label {\n",
              "  /* The background is the default theme color */\n",
              "  color: var(--sklearn-color-text-on-default-background);\n",
              "}\n",
              "\n",
              "/* On hover, darken the color of the background */\n",
              "#sk-container-id-1 div.sk-label:hover label.sk-toggleable__label {\n",
              "  color: var(--sklearn-color-text);\n",
              "  background-color: var(--sklearn-color-unfitted-level-2);\n",
              "}\n",
              "\n",
              "/* Label box, darken color on hover, fitted */\n",
              "#sk-container-id-1 div.sk-label.fitted:hover label.sk-toggleable__label.fitted {\n",
              "  color: var(--sklearn-color-text);\n",
              "  background-color: var(--sklearn-color-fitted-level-2);\n",
              "}\n",
              "\n",
              "/* Estimator label */\n",
              "\n",
              "#sk-container-id-1 div.sk-label label {\n",
              "  font-family: monospace;\n",
              "  font-weight: bold;\n",
              "  display: inline-block;\n",
              "  line-height: 1.2em;\n",
              "}\n",
              "\n",
              "#sk-container-id-1 div.sk-label-container {\n",
              "  text-align: center;\n",
              "}\n",
              "\n",
              "/* Estimator-specific */\n",
              "#sk-container-id-1 div.sk-estimator {\n",
              "  font-family: monospace;\n",
              "  border: 1px dotted var(--sklearn-color-border-box);\n",
              "  border-radius: 0.25em;\n",
              "  box-sizing: border-box;\n",
              "  margin-bottom: 0.5em;\n",
              "  /* unfitted */\n",
              "  background-color: var(--sklearn-color-unfitted-level-0);\n",
              "}\n",
              "\n",
              "#sk-container-id-1 div.sk-estimator.fitted {\n",
              "  /* fitted */\n",
              "  background-color: var(--sklearn-color-fitted-level-0);\n",
              "}\n",
              "\n",
              "/* on hover */\n",
              "#sk-container-id-1 div.sk-estimator:hover {\n",
              "  /* unfitted */\n",
              "  background-color: var(--sklearn-color-unfitted-level-2);\n",
              "}\n",
              "\n",
              "#sk-container-id-1 div.sk-estimator.fitted:hover {\n",
              "  /* fitted */\n",
              "  background-color: var(--sklearn-color-fitted-level-2);\n",
              "}\n",
              "\n",
              "/* Specification for estimator info (e.g. \"i\" and \"?\") */\n",
              "\n",
              "/* Common style for \"i\" and \"?\" */\n",
              "\n",
              ".sk-estimator-doc-link,\n",
              "a:link.sk-estimator-doc-link,\n",
              "a:visited.sk-estimator-doc-link {\n",
              "  float: right;\n",
              "  font-size: smaller;\n",
              "  line-height: 1em;\n",
              "  font-family: monospace;\n",
              "  background-color: var(--sklearn-color-background);\n",
              "  border-radius: 1em;\n",
              "  height: 1em;\n",
              "  width: 1em;\n",
              "  text-decoration: none !important;\n",
              "  margin-left: 0.5em;\n",
              "  text-align: center;\n",
              "  /* unfitted */\n",
              "  border: var(--sklearn-color-unfitted-level-1) 1pt solid;\n",
              "  color: var(--sklearn-color-unfitted-level-1);\n",
              "}\n",
              "\n",
              ".sk-estimator-doc-link.fitted,\n",
              "a:link.sk-estimator-doc-link.fitted,\n",
              "a:visited.sk-estimator-doc-link.fitted {\n",
              "  /* fitted */\n",
              "  border: var(--sklearn-color-fitted-level-1) 1pt solid;\n",
              "  color: var(--sklearn-color-fitted-level-1);\n",
              "}\n",
              "\n",
              "/* On hover */\n",
              "div.sk-estimator:hover .sk-estimator-doc-link:hover,\n",
              ".sk-estimator-doc-link:hover,\n",
              "div.sk-label-container:hover .sk-estimator-doc-link:hover,\n",
              ".sk-estimator-doc-link:hover {\n",
              "  /* unfitted */\n",
              "  background-color: var(--sklearn-color-unfitted-level-3);\n",
              "  color: var(--sklearn-color-background);\n",
              "  text-decoration: none;\n",
              "}\n",
              "\n",
              "div.sk-estimator.fitted:hover .sk-estimator-doc-link.fitted:hover,\n",
              ".sk-estimator-doc-link.fitted:hover,\n",
              "div.sk-label-container:hover .sk-estimator-doc-link.fitted:hover,\n",
              ".sk-estimator-doc-link.fitted:hover {\n",
              "  /* fitted */\n",
              "  background-color: var(--sklearn-color-fitted-level-3);\n",
              "  color: var(--sklearn-color-background);\n",
              "  text-decoration: none;\n",
              "}\n",
              "\n",
              "/* Span, style for the box shown on hovering the info icon */\n",
              ".sk-estimator-doc-link span {\n",
              "  display: none;\n",
              "  z-index: 9999;\n",
              "  position: relative;\n",
              "  font-weight: normal;\n",
              "  right: .2ex;\n",
              "  padding: .5ex;\n",
              "  margin: .5ex;\n",
              "  width: min-content;\n",
              "  min-width: 20ex;\n",
              "  max-width: 50ex;\n",
              "  color: var(--sklearn-color-text);\n",
              "  box-shadow: 2pt 2pt 4pt #999;\n",
              "  /* unfitted */\n",
              "  background: var(--sklearn-color-unfitted-level-0);\n",
              "  border: .5pt solid var(--sklearn-color-unfitted-level-3);\n",
              "}\n",
              "\n",
              ".sk-estimator-doc-link.fitted span {\n",
              "  /* fitted */\n",
              "  background: var(--sklearn-color-fitted-level-0);\n",
              "  border: var(--sklearn-color-fitted-level-3);\n",
              "}\n",
              "\n",
              ".sk-estimator-doc-link:hover span {\n",
              "  display: block;\n",
              "}\n",
              "\n",
              "/* \"?\"-specific style due to the `<a>` HTML tag */\n",
              "\n",
              "#sk-container-id-1 a.estimator_doc_link {\n",
              "  float: right;\n",
              "  font-size: 1rem;\n",
              "  line-height: 1em;\n",
              "  font-family: monospace;\n",
              "  background-color: var(--sklearn-color-background);\n",
              "  border-radius: 1rem;\n",
              "  height: 1rem;\n",
              "  width: 1rem;\n",
              "  text-decoration: none;\n",
              "  /* unfitted */\n",
              "  color: var(--sklearn-color-unfitted-level-1);\n",
              "  border: var(--sklearn-color-unfitted-level-1) 1pt solid;\n",
              "}\n",
              "\n",
              "#sk-container-id-1 a.estimator_doc_link.fitted {\n",
              "  /* fitted */\n",
              "  border: var(--sklearn-color-fitted-level-1) 1pt solid;\n",
              "  color: var(--sklearn-color-fitted-level-1);\n",
              "}\n",
              "\n",
              "/* On hover */\n",
              "#sk-container-id-1 a.estimator_doc_link:hover {\n",
              "  /* unfitted */\n",
              "  background-color: var(--sklearn-color-unfitted-level-3);\n",
              "  color: var(--sklearn-color-background);\n",
              "  text-decoration: none;\n",
              "}\n",
              "\n",
              "#sk-container-id-1 a.estimator_doc_link.fitted:hover {\n",
              "  /* fitted */\n",
              "  background-color: var(--sklearn-color-fitted-level-3);\n",
              "}\n",
              "</style><div id=\"sk-container-id-1\" class=\"sk-top-container\"><div class=\"sk-text-repr-fallback\"><pre>RandomForestClassifier(max_features=0.5, n_estimators=73, random_state=42)</pre><b>In a Jupyter environment, please rerun this cell to show the HTML representation or trust the notebook. <br />On GitHub, the HTML representation is unable to render, please try loading this page with nbviewer.org.</b></div><div class=\"sk-container\" hidden><div class=\"sk-item\"><div class=\"sk-estimator fitted sk-toggleable\"><input class=\"sk-toggleable__control sk-hidden--visually\" id=\"sk-estimator-id-1\" type=\"checkbox\" checked><label for=\"sk-estimator-id-1\" class=\"sk-toggleable__label fitted sk-toggleable__label-arrow\"><div><div>RandomForestClassifier</div></div><div><a class=\"sk-estimator-doc-link fitted\" rel=\"noreferrer\" target=\"_blank\" href=\"https://scikit-learn.org/1.6/modules/generated/sklearn.ensemble.RandomForestClassifier.html\">?<span>Documentation for RandomForestClassifier</span></a><span class=\"sk-estimator-doc-link fitted\">i<span>Fitted</span></span></div></label><div class=\"sk-toggleable__content fitted\"><pre>RandomForestClassifier(max_features=0.5, n_estimators=73, random_state=42)</pre></div> </div></div></div></div>"
            ]
          },
          "metadata": {},
          "execution_count": 13
        }
      ]
    },
    {
      "cell_type": "code",
      "source": [
        "import numpy as np\n",
        "import matplotlib.pyplot as plt\n",
        "from sklearn.ensemble import RandomForestClassifier\n",
        "from sklearn.metrics import log_loss\n",
        "\n",
        "\n",
        "# Learning curve setup\n",
        "train_sizes = np.linspace(0.1, 1.0, 10)\n",
        "train_losses = []\n",
        "val_losses = []\n",
        "\n",
        "for frac in train_sizes:\n",
        "    n_samples = int(frac * len(X_train))\n",
        "    X_subset = X_train[:n_samples]\n",
        "    y_subset = y_train[:n_samples]\n",
        "\n",
        "    model = RandomForestClassifier(**best_params)\n",
        "    model.fit(X_subset, y_subset)\n",
        "\n",
        "    # Training loss\n",
        "    y_train_proba = model.predict_proba(X_subset)\n",
        "    train_loss = log_loss(y_subset, y_train_proba)\n",
        "    train_losses.append(train_loss)\n",
        "\n",
        "    # Validation loss (on full val set)\n",
        "    y_val_proba = model.predict_proba(X_val)\n",
        "    val_loss = log_loss(y_val, y_val_proba)\n",
        "    val_losses.append(val_loss)\n",
        "\n",
        "# Plotting\n",
        "plt.figure(figsize=(8, 5))\n",
        "plt.plot(train_sizes * len(X_train), train_losses, marker='o', label='Training Loss')\n",
        "plt.plot(train_sizes * len(X_train), val_losses, marker='s', label='Validation Loss')\n",
        "plt.xlabel('Training Set Size')\n",
        "plt.ylabel('Log Loss')\n",
        "plt.title('Training vs Validation Loss Evolution (Random Forest)')\n",
        "plt.grid(True)\n",
        "plt.legend()\n",
        "plt.tight_layout()\n",
        "plt.show()\n",
        "\n"
      ],
      "metadata": {
        "colab": {
          "base_uri": "https://localhost:8080/",
          "height": 507
        },
        "id": "CyYmh1ru9v9b",
        "outputId": "fb9e6385-203c-4672-a48e-a3418ebf9426"
      },
      "execution_count": 14,
      "outputs": [
        {
          "output_type": "display_data",
          "data": {
            "text/plain": [
              "<Figure size 800x500 with 1 Axes>"
            ],
            "image/png": "[encoded data removed]"
          },
          "metadata": {}
        }
      ]
    },
    {
      "cell_type": "markdown",
      "source": [
        "### Exercise 5:\n",
        "\n",
        "Select and define the most appropriate evaluation metric(s). Discuss the appropriateness of your evaluation metrics for the binary classification problem we are considering."
      ],
      "metadata": {
        "id": "Uy_SulYKeEn4"
      }
    },
    {
      "cell_type": "code",
      "source": [
        "# (response to exercise 5)\n",
        "#We define the evaluation metrics we are more familiar with.\n",
        "from sklearn.metrics import (\n",
        "    accuracy_score,\n",
        "    precision_score,\n",
        "    recall_score,\n",
        "    f1_score,\n",
        "    roc_auc_score,\n",
        "    log_loss,\n",
        "    confusion_matrix,\n",
        "    classification_report\n",
        ")\n",
        "\n",
        "def evaluate_binary_classifier(model, X, y_true, set_name=\"Validation\"):\n",
        "\n",
        "    y_pred = model.predict(X)\n",
        "\n",
        "\n",
        "\n",
        "    print(f\"\\n--- {set_name} Metrics ---\")\n",
        "    print(f\"Accuracy      : {accuracy_score(y_true, y_pred):.4f}\")\n",
        "    print(f\"Precision     : {precision_score(y_true, y_pred):.4f}\")\n",
        "    print(f\"Recall        : {recall_score(y_true, y_pred):.4f}\")\n",
        "    print(f\"F1 Score      : {f1_score(y_true, y_pred):.4f}\")\n",
        "\n",
        "\n",
        "\n",
        "    print(\"\\nConfusion Matrix:\")\n",
        "    print(confusion_matrix(y_true, y_pred))\n",
        "\n",
        "    print(\"\\nClassification Report:\")\n",
        "    print(classification_report(y_true, y_pred))\n",
        "\n"
      ],
      "metadata": {
        "id": "TB4TAqiAeNXk"
      },
      "execution_count": 18,
      "outputs": []
    },
    {
      "cell_type": "markdown",
      "source": [
        "### Exercise 6:\n",
        "\n",
        "Evaluate your trained model on the test set, using the evaluation metrics that you have proposed. Remember that the test data should have not been seen by the model, so that we can properly estimate of its generalization capabilities."
      ],
      "metadata": {
        "id": "LafMStmKfW4-"
      }
    },
    {
      "cell_type": "code",
      "source": [
        "# (response to exercise 6)\n",
        "#We use the evaluation metrics defined in the exercise above and we obtain satisfactory results.\n",
        "model = RandomForestClassifier().fit(X_train, y_train)\n",
        "\n",
        "# Then evaluate:\n",
        "evaluate_binary_classifier(model, X_val, y_val, set_name=\"Validation\")\n",
        "evaluate_binary_classifier(model, X_train, y_train, set_name=\"Trainning\")\n",
        "\n"
      ],
      "metadata": {
        "id": "2Eb3K84dgTb1",
        "colab": {
          "base_uri": "https://localhost:8080/"
        },
        "outputId": "f8734a49-912b-423d-ce2e-2a0adc851555"
      },
      "execution_count": 20,
      "outputs": [
        {
          "output_type": "stream",
          "name": "stdout",
          "text": [
            "\n",
            "--- Validation Metrics ---\n",
            "Accuracy      : 0.9992\n",
            "Precision     : 0.9997\n",
            "Recall        : 0.9987\n",
            "F1 Score      : 0.9992\n",
            "\n",
            "Confusion Matrix:\n",
            "[[2983    1]\n",
            " [   4 3012]]\n",
            "\n",
            "Classification Report:\n",
            "              precision    recall  f1-score   support\n",
            "\n",
            "           0       1.00      1.00      1.00      2984\n",
            "           1       1.00      1.00      1.00      3016\n",
            "\n",
            "    accuracy                           1.00      6000\n",
            "   macro avg       1.00      1.00      1.00      6000\n",
            "weighted avg       1.00      1.00      1.00      6000\n",
            "\n",
            "\n",
            "--- Trainning Metrics ---\n",
            "Accuracy      : 1.0000\n",
            "Precision     : 1.0000\n",
            "Recall        : 1.0000\n",
            "F1 Score      : 1.0000\n",
            "\n",
            "Confusion Matrix:\n",
            "[[7017    0]\n",
            " [   0 6982]]\n",
            "\n",
            "Classification Report:\n",
            "              precision    recall  f1-score   support\n",
            "\n",
            "           0       1.00      1.00      1.00      7017\n",
            "           1       1.00      1.00      1.00      6982\n",
            "\n",
            "    accuracy                           1.00     13999\n",
            "   macro avg       1.00      1.00      1.00     13999\n",
            "weighted avg       1.00      1.00      1.00     13999\n",
            "\n"
          ]
        }
      ]
    }
  ]
}